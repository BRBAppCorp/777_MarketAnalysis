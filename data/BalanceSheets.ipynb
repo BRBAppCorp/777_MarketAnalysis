{
 "cells": [
  {
   "cell_type": "code",
   "execution_count": 9,
   "metadata": {},
   "outputs": [],
   "source": [
    "import pyEX\n",
    "import pandas as pd \n",
    "\n",
    "p = pyEX.Client('KEY')"
   ]
  },
  {
   "cell_type": "code",
   "execution_count": 47,
   "metadata": {},
   "outputs": [],
   "source": [
    "technology = ['MSFT','GOOG','FB','T','CSCO','VZ','INTC','TSM','ORCL','SAP','ADBE','IBM','ACN','CRM','TXN','AVGO','NVDA','QCOM','UBER','INTU','ADP','TMUS','VMW','CCI','NOW','MU','WDAY','AMAT','ADI','FIS','LHX','EQIX','DELL','CTSH','ADSK','AMD','ATVI','SQ','TWTR']\n",
    "consumergoods = ['AAPL','PG','KO','TM','PEP','NKE','PM','MO','MDLZ','EL','CL','GM','KMB','PHG','TSLA','STZ','F','KHC','JCI','MNST','VFC','GIS','HSY','TSN','PCAR']\n",
    "financials = ['V','JPM','BAC','MA','WFC','C','PYPL','AXP','AMT','USB','GS','MS','BLK','CME','CB','AABA','PNC','BX','SCHW','MMC']\n",
    "healthcare = ['JNJ','UNH','PFE','NVS','MRK','ABT','MDT','TMO','AZN','AMGN','LLY','SNY','GSK','ABBV','NVO','GILD','SYK','ANTM','BMY','CVS','BDX','CELG','CI','ISRG','BSX','ZTS','AGN','TAK','HCA','BIIB','ILMN','EW','VRTX','BAX','HUM','REGN','IQV','ALC','ALXN']\n",
    "industrials = ['BA','HON','UTX','LMT','DHR','MMM','GE','CAT','NOC','GD','DE','RTN','ITW','WM','EMR','ABB']\n"
   ]
  },
  {
   "cell_type": "markdown",
   "metadata": {},
   "source": [
    "# BALANCE SHEETS "
   ]
  },
  {
   "cell_type": "code",
   "execution_count": 48,
   "metadata": {},
   "outputs": [],
   "source": [
    "techstats = p.advancedStatsDF(ticker)\n",
    "techbalancesheet = pd.DataFrame()\n",
    "for x in technology: \n",
    "    techbalancesheet = techbalancesheet.append(p.balanceSheetDF(x))\n",
    "for x in technology: \n",
    "    techstats = techstats.append(p.advancedStatsDF(x))\n",
    "techbalancesheet.to_excel(\"technology_balance.xlsx\")\n",
    "techstats.to_excel(\"technology_stats.xlsx\")\n"
   ]
  },
  {
   "cell_type": "code",
   "execution_count": 49,
   "metadata": {},
   "outputs": [],
   "source": [
    "consstats = p.advancedStatsDF(ticker)\n",
    "consbalancesheet = pd.DataFrame()\n",
    "for x in consumergoods: \n",
    "    consbalancesheet = consbalancesheet.append(p.balanceSheetDF(x))\n",
    "for x in consumergoods: \n",
    "    consstats = consstats.append(p.advancedStatsDF(x))\n",
    "consstats.to_excel(\"consumergoods_stats.xlsx\")\n",
    "consbalancesheet.to_excel(\"consumergoods_balance.xlsx\")"
   ]
  },
  {
   "cell_type": "code",
   "execution_count": 50,
   "metadata": {},
   "outputs": [],
   "source": [
    "finstats = p.advancedStatsDF(ticker)\n",
    "finbalancesheet = pd.DataFrame()\n",
    "for x in financials: \n",
    "    finbalancesheet = finbalancesheet.append(p.balanceSheetDF(x))\n",
    "for x in financials: \n",
    "    finstats = finstats.append(p.advancedStatsDF(x))\n",
    "finstats.to_excel(\"financials_stats.xlsx\")\n",
    "finbalancesheet.to_excel(\"financials_balance.xlsx\")"
   ]
  },
  {
   "cell_type": "code",
   "execution_count": 51,
   "metadata": {},
   "outputs": [],
   "source": [
    "healthstats = p.advancedStatsDF(ticker)\n",
    "healthbalancesheet = pd.DataFrame()\n",
    "for x in healthcare: \n",
    "    healthbalancesheet = healthbalancesheet.append(p.balanceSheetDF(x))\n",
    "for x in healthcare: \n",
    "    healthstats = healthstats.append(p.advancedStatsDF(x))\n",
    "healthstats.to_excel(\"healthcare_stats.xlsx\")\n",
    "healthbalancesheet.to_excel(\"healthcare_balance.xlsx\")"
   ]
  },
  {
   "cell_type": "code",
   "execution_count": 52,
   "metadata": {},
   "outputs": [],
   "source": [
    "indstats = p.advancedStatsDF(ticker)\n",
    "indbalancesheet = pd.DataFrame()\n",
    "for x in industrials: \n",
    "    indbalancesheet = indbalancesheet.append(p.balanceSheetDF(x))\n",
    "for x in industrials: \n",
    "    indstats = indstats.append(p.advancedStatsDF(x))\n",
    "indstats.to_excel(\"industrials_stats.xlsx\")\n",
    "indbalancesheet.to_excel(\"industrials_balance.xlsx\")"
   ]
  },
  {
   "cell_type": "markdown",
   "metadata": {},
   "source": [
    "# COMBINED SHEETS"
   ]
  },
  {
   "cell_type": "code",
   "execution_count": 54,
   "metadata": {},
   "outputs": [],
   "source": [
    "combinedbalancesheet = pd.DataFrame()\n",
    "combinedstats = pd.DataFrame()\n",
    "\n",
    "combinedbalancesheet = combinedbalancesheet.append(techbalancesheet)\n",
    "combinedbalancesheet = combinedbalancesheet.append(consbalancesheet)\n",
    "combinedbalancesheet = combinedbalancesheet.append(healthbalancesheet)\n",
    "combinedbalancesheet = combinedbalancesheet.append(finbalancesheet)\n",
    "combinedbalancesheet = combinedbalancesheet.append(indbalancesheet)\n",
    "\n",
    "combinedstats = combinedstats.append(techstats)\n",
    "combinedstats = combinedstats.append(consstats)\n",
    "combinedstats = combinedstats.append(healthstats)\n",
    "combinedstats = combinedstats.append(finstats)\n",
    "combinedstats = combinedstats.append(indstats)\n",
    "\n",
    "combinedstats.to_excel(\"combinedstats.xlsx\")\n",
    "combinedbalancesheet.to_excel(\"combinedbalancesheet.xlsx\")"
   ]
  },
  {
   "cell_type": "markdown",
   "metadata": {},
   "source": [
    "# MARKET CAPS"
   ]
  },
  {
   "cell_type": "code",
   "execution_count": 85,
   "metadata": {},
   "outputs": [],
   "source": [
    "marketcap = pd.DataFrame()\n",
    "for x in semis: \n",
    "    marketcapappender = p.keyStatsDF(x)\n",
    "    marketcapappender = marketcapappender['marketcap']\n",
    "    marketcap = marketcap.append(marketcapappender)\n",
    "#marketcap = marketcap.values\n",
    "#print(marketcap)"
   ]
  },
  {
   "cell_type": "code",
   "execution_count": 86,
   "metadata": {},
   "outputs": [
    {
     "name": "stdout",
     "output_type": "stream",
     "text": [
      "            accountsPayable  capitalSurplus  commonStock  currentAssets  \\\n",
      "reportDate                                                                \n",
      "2019-03-31        930000000      9246000000     11000000     3677000000   \n",
      "2019-04-30        368000000      6317000000      1000000    10629000000   \n",
      "2019-06-30        497110000               0            0     3589568000   \n",
      "2019-06-30       4682000000               0  25140000000    29239000000   \n",
      "2019-03-31         48974000       369634000         4000      461327000   \n",
      "2019-03-31         89891000               0    160384000      658836000   \n",
      "2019-06-30        412000000      2003000000   1741000000     7956000000   \n",
      "2019-03-31        167900000      3126200000     43200000     2160100000   \n",
      "2019-04-30        903000000      7396000000      9000000    10062000000   \n",
      "2019-05-31       1336000000      8217000000    118000000    15066000000   \n",
      "2019-04-30        759000000               0  22288000000    10677000000   \n",
      "2019-06-30        182826000               0            0      975194000   \n",
      "2019-04-30        208243000      5117202000     61628000     2080489000   \n",
      "\n",
      "             currentCash  currentLongTermDebt     goodwill  intangibleAssets  \\\n",
      "reportDate                                                                     \n",
      "2019-03-31  9.830000e+08             70000000    289000000      2.220000e+08   \n",
      "2019-04-30  2.772000e+09                    0    618000000      5.400000e+07   \n",
      "2019-06-30  0.000000e+00                    0            0      0.000000e+00   \n",
      "2019-06-30  2.867000e+09                    0  24583000000      1.124900e+10   \n",
      "2019-03-31  7.353200e+07                    0            0      0.000000e+00   \n",
      "2019-03-31  1.076490e+08              1702000    307461000      1.364320e+08   \n",
      "2019-06-30  3.813000e+09           1249000000   4362000000      5.570000e+08   \n",
      "2019-03-31  8.163000e+08                    0   1189800000      1.299000e+08   \n",
      "2019-04-30  3.116000e+09                    0   3399000000      1.850000e+08   \n",
      "2019-05-31  5.157000e+09           1346000000   1228000000      3.390000e+08   \n",
      "2019-04-30  0.000000e+00           3537000000  36662000000      2.018800e+10   \n",
      "2019-06-30  0.000000e+00                    0            0      0.000000e+00   \n",
      "2019-04-30  7.136010e+08            374165000  12250370000      4.489182e+09   \n",
      "\n",
      "             inventory  longTermDebt  ...  otherLiabilities  \\\n",
      "reportDate                            ...                     \n",
      "2019-03-31   955000000    1237000000  ...         142000000   \n",
      "2019-04-30  1426000000    2474000000  ...         618000000   \n",
      "2019-06-30   336758000    1245263000  ...         564639000   \n",
      "2019-06-30  8696000000   25089000000  ...        8562000000   \n",
      "2019-03-31    26712000      14784000  ...          14758000   \n",
      "2019-03-31   297704000     255411000  ...          62381000   \n",
      "2019-06-30  2079000000    4558000000  ...        1524000000   \n",
      "2019-03-31   555000000             0  ...          30600000   \n",
      "2019-04-30  3677000000    5311000000  ...        1483000000   \n",
      "2019-05-31  4905000000    3564000000  ...         417000000   \n",
      "2019-04-30  1034000000   34011000000  ...        4359000000   \n",
      "2019-06-30   335251000     854304000  ...         451955000   \n",
      "2019-04-30   608085000    5612365000  ...         785184000   \n",
      "\n",
      "            propertyPlantEquipment   receivables  retainedEarnings  \\\n",
      "reportDate                                                           \n",
      "2019-03-31               591000000  1.241000e+09       -7420000000   \n",
      "2019-04-30              2009000000  1.242000e+09       12862000000   \n",
      "2019-06-30               350555000  3.059550e+08                 0   \n",
      "2019-06-30             51377000000  6.233000e+09       50429000000   \n",
      "2019-03-31                50489000  8.339100e+07         189517000   \n",
      "2019-03-31               124916000  2.184330e+08         382880000   \n",
      "2019-06-30              3365000000  1.419000e+09       38974000000   \n",
      "2019-03-31              1169800000  5.438000e+08        4098700000   \n",
      "2019-04-30              1494000000  2.375000e+09       23502000000   \n",
      "2019-05-31             27138000000  2.848000e+09       30201000000   \n",
      "2019-04-30              2654000000  3.484000e+09                 0   \n",
      "2019-06-30               268723000  2.677630e+08                 0   \n",
      "2019-04-30              1211467000  6.859780e+08        6659449000   \n",
      "\n",
      "            shareholderEquity  shortTermInvestments   totalAssets  \\\n",
      "reportDate                                                          \n",
      "2019-03-31       1.788000e+09             216000000    4931000000   \n",
      "2019-04-30       9.704000e+09            5030000000   14021000000   \n",
      "2019-06-30       2.612584e+09                     0    4967898000   \n",
      "2019-06-30       7.519400e+10            9077000000  130759000000   \n",
      "2019-03-31       5.196260e+08             265899000     642690000   \n",
      "2019-03-31       5.258080e+08                     0    1284115000   \n",
      "2019-06-30       8.486000e+09             405000000   17384000000   \n",
      "2019-03-31       4.080900e+09             141100000    4765500000   \n",
      "2019-04-30       8.201000e+09             507000000   18775000000   \n",
      "2019-05-31       3.532300e+10            1532000000   46288000000   \n",
      "2019-04-30       2.217200e+10                     0   70916000000   \n",
      "2019-06-30       2.107706e+09                     0    3648476000   \n",
      "2019-04-30       1.174226e+10                     0   21776325000   \n",
      "\n",
      "            totalCurrentLiabilities  totalLiabilities  treasuryStock  \n",
      "reportDate                                                            \n",
      "2019-03-31               1764000000        3143000000       48000000  \n",
      "2019-04-30               1183000000        4317000000     9474000000  \n",
      "2019-06-30                497110000        2355314000              0  \n",
      "2019-06-30              19705000000       55812000000              0  \n",
      "2019-03-31                 93522000         123064000       39712000  \n",
      "2019-03-31                425500000         758307000              0  \n",
      "2019-06-30               2646000000        8898000000    33775000000  \n",
      "2019-03-31                338300000         684600000     3179100000  \n",
      "2019-04-30               3605000000       10574000000    22568000000  \n",
      "2019-05-31               5397000000        9378000000     3221000000  \n",
      "2019-04-30               8503000000       48744000000              0  \n",
      "2019-06-30                233211000        1539470000              0  \n",
      "2019-04-30               1365035000       10034067000              0  \n",
      "\n",
      "[13 rows x 26 columns]\n"
     ]
    }
   ],
   "source": [
    "balancesheet = balancesheet.drop(\"symbol\", axis=1)\n",
    "balancesheet = balancesheet.fillna(0)\n",
    "print(balancesheet)"
   ]
  },
  {
   "cell_type": "code",
   "execution_count": 97,
   "metadata": {},
   "outputs": [
    {
     "name": "stderr",
     "output_type": "stream",
     "text": [
      "/anaconda3/lib/python3.7/site-packages/ipykernel_launcher.py:10: DataConversionWarning: A column-vector y was passed when a 1d array was expected. Please change the shape of y to (n_samples,), for example using ravel().\n",
      "  # Remove the CWD from sys.path while we load stuff.\n"
     ]
    },
    {
     "data": {
      "text/plain": [
       "array([1.41281629e+11])"
      ]
     },
     "execution_count": 97,
     "metadata": {},
     "output_type": "execute_result"
    }
   ],
   "source": [
    "from sklearn.ensemble import RandomForestRegressor\n",
    "from sklearn.linear_model import LogisticRegression\n",
    "\n",
    "testbalancesheet = p.balanceSheetDF('ko')\n",
    "testbalancesheet = testbalancesheet.drop(\"symbol\", axis=1)\n",
    "testbalancesheet = testbalancesheet.fillna(0)\n",
    "\n",
    "#print(testbalancesheet)\n",
    "regr = RandomForestRegressor(random_state=0, n_estimators=250)\n",
    "regr.fit(balancesheet,marketcap)\n",
    "regr.predict(testbalancesheet)\n",
    "\n",
    "#log = LogisticRegression()\n",
    "#log.fit(balancesheet,marketcap)\n",
    "#log.predict(testbalancesheet)"
   ]
  },
  {
   "cell_type": "code",
   "execution_count": null,
   "metadata": {},
   "outputs": [],
   "source": []
  }
 ],
 "metadata": {
  "kernelspec": {
   "display_name": "Python 3",
   "language": "python",
   "name": "python3"
  },
  "language_info": {
   "codemirror_mode": {
    "name": "ipython",
    "version": 3
   },
   "file_extension": ".py",
   "mimetype": "text/x-python",
   "name": "python",
   "nbconvert_exporter": "python",
   "pygments_lexer": "ipython3",
   "version": "3.7.3"
  }
 },
 "nbformat": 4,
 "nbformat_minor": 2
}
